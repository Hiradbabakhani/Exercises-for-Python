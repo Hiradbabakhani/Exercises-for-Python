{
 "cells": [
  {
   "cell_type": "code",
   "execution_count": 27,
   "metadata": {},
   "outputs": [
    {
     "name": "stdout",
     "output_type": "stream",
     "text": [
      "hello\n"
     ]
    }
   ],
   "source": [
    "def meeting():\n",
    "    print('hello')\n",
    "\n",
    "meeting()"
   ]
  },
  {
   "cell_type": "code",
   "execution_count": 28,
   "metadata": {},
   "outputs": [
    {
     "data": {
      "text/plain": [
       "25"
      ]
     },
     "execution_count": 28,
     "metadata": {},
     "output_type": "execute_result"
    }
   ],
   "source": [
    "def square(number):\n",
    "    return number * number\n",
    "\n",
    "square(5)"
   ]
  },
  {
   "cell_type": "markdown",
   "metadata": {},
   "source": [
    "Tasks:\n",
    "\n",
    "1.Defining and Calling a Simple Function: Define a function named greet that prints \"Hello, World!\" to the console. Then, call this function to see the greeting printed out.\n",
    "\n",
    "2.Creating a Function with Parameters: Define a function called personalize_greeting that takes a name as a parameter and prints a personalized greeting, \"Hello, [name]!\". Replace [name] with the actual name provided. Call this function with your name as an argument.\n",
    "\n",
    "3.Calculating the Area of a Circle: Define a function named circle_area that takes the radius of a circle as a parameter and returns the area of the circle. Use the formula area = π * radius^2 for the calculation (π can be approximated as 3.14159). Call this function with a radius of 5 and print the result.\n",
    "\n",
    "4.Using Multiple Parameters: Define a function called add_numbers that takes two parameters and returns their sum. Call this function with two numbers of your choice and print the result.\n",
    "\n",
    "5.No Return Statement: Define a function called print_menu that prints a list of food items to the console but does not return anything. Call this function to display the menu.\n",
    "\n",
    "6.Bonus: A Function that Returns Multiple Values: Define a function called min_max that takes a list of numbers as a parameter and returns both the minimum and maximum numbers in the list. Call this function with a list of numbers and unpack the results into two variables, then print those variables."
   ]
  },
  {
   "cell_type": "code",
   "execution_count": 29,
   "metadata": {},
   "outputs": [
    {
     "name": "stdout",
     "output_type": "stream",
     "text": [
      "Hello, World!\n",
      "Hello, Alice!\n",
      "The area of the circle with radius 5 is 78.53975.\n",
      "The sum of 3 and 7 is 10.\n",
      "Menu: Pizza, Salad, Soup\n",
      "Minimum: 2, Maximum: 11\n"
     ]
    }
   ],
   "source": [
    "\n",
    "# Task 1: Defining and Calling a Simple Function\n",
    "def greet():\n",
    "    print(\"Hello, World!\")\n",
    "\n",
    "greet()\n",
    "\n",
    "# Task 2: Creating a Function with Parameters\n",
    "\n",
    "def personalize_greeting(name):\n",
    "    print(f\"Hello, {name}!\")\n",
    "\n",
    "personalize_greeting(\"Alice\")\n",
    "\n",
    "# Task 3: Calculating the Area of a Circle\n",
    "\n",
    "def circle_area(radius):\n",
    "    pi = 3.14159\n",
    "    return pi * radius ** 2\n",
    "\n",
    "area = circle_area(5)\n",
    "print(f\"The area of the circle with radius 5 is {area}.\")\n",
    "\n",
    "\n",
    "# Task 4: Using Multiple Parameters\n",
    "\n",
    "def add_numbers(num1, num2):\n",
    "    return num1 + num2\n",
    "sum_of_numbers = add_numbers(3, 7)\n",
    "print(f\"The sum of 3 and 7 is {sum_of_numbers}.\")\n",
    "\n",
    "# Task 5: No Return Statement\n",
    "\n",
    "def print_menu():\n",
    "    menu_items = [\"Pizza\", \"Salad\", \"Soup\"]\n",
    "    print(\"Menu:\", \", \".join(menu_items))\n",
    "print_menu()\n",
    "\n",
    "def min_max(numbers):\n",
    "    return min(numbers), max(numbers)\n",
    "min_number, max_number = min_max([2, 3, 5, 7, 11, 2, 10])\n",
    "print(f\"Minimum: {min_number}, Maximum: {max_number}\")"
   ]
  },
  {
   "cell_type": "code",
   "execution_count": 30,
   "metadata": {},
   "outputs": [
    {
     "name": "stdout",
     "output_type": "stream",
     "text": [
      "Name: Albert Einstein, Age: 76, Country: Unknown, Language: English\n"
     ]
    }
   ],
   "source": [
    "def create_profile(name, age, country='Unknown', language='English'):\n",
    "    print(f\"Name: {name}, Age: {age}, Country: {country}, Language: {language}\")\n",
    "create_profile('Albert Einstein', 76)"
   ]
  },
  {
   "cell_type": "code",
   "execution_count": 31,
   "metadata": {},
   "outputs": [
    {
     "name": "stdout",
     "output_type": "stream",
     "text": [
      "Name: Marie Curie, Age: 66, Country: Poland, Language: English\n"
     ]
    }
   ],
   "source": [
    "create_profile('Marie Curie', 66, 'Poland')"
   ]
  },
  {
   "cell_type": "markdown",
   "metadata": {},
   "source": [
    "Tasks:\n",
    "\n",
    "1.Write a function named schedule_visit that takes three parameters: section (the section of the zoo to visit, e.g., \"Reptiles\", \"Birds\"), time (the time you plan to visit that section), and activity with a default value of \"Feeding\". The function should print a message summarizing the visit plan for that section.\n",
    "\n",
    "2.Call the schedule_visit function for the \"Reptiles\" section at \"10:00 AM\" without specifying an activity to use the default value.\n",
    "\n",
    "3.Call the schedule_visit function for the \"Birds\" section at \"1:00 PM\" with the activity \"Educational Talk\".\n",
    "\n",
    "4.Write a function named add_special_request that takes two parameters: section and request with a default value of \"None\". This function should print a message indicating any special requests for the visit to that section. If no special request is made, the function should print that no special requests have been made for this section.\n",
    "\n",
    "5.Call the add_special_request function for the \"Reptiles\" section without specifying a request.\n",
    "\n",
    "6.Call the add_special_request function for the \"Mammals\" section with a special request of \"Wheelchair Access\"."
   ]
  },
  {
   "cell_type": "code",
   "execution_count": 32,
   "metadata": {},
   "outputs": [
    {
     "name": "stdout",
     "output_type": "stream",
     "text": [
      "Planning to visit Reptiles section at 10:00 AM for a Feeding activity.\n",
      "Planning to visit Birds section at 1:00 PM for a Educational Talk activity.\n",
      "No special requests have been made for the Reptiles section.\n",
      "Special request for the Mammals section: Wheelchair Access.\n"
     ]
    }
   ],
   "source": [
    "# Task 1: Function to schedule a visit to a zoo section\n",
    "\n",
    "def schedule_visit(section, time, activity='Feeding'):\n",
    "    print(f\"Planning to visit {section} section at {time} for a {activity} activity.\")\n",
    "\n",
    "# Task 2: Schedule visit to Reptiles section using the default activity\n",
    "\n",
    "schedule_visit('Reptiles', '10:00 AM')\n",
    "\n",
    "# Task 3: Schedule visit to Birds section with a specified activity\n",
    "\n",
    "schedule_visit('Birds', '1:00 PM', 'Educational Talk')\n",
    "\n",
    "# Task 4: Function to add a special request for a zoo section visit\n",
    "\n",
    "def add_special_request(section, request=None):\n",
    "    if request:\n",
    "        print(f\"Special request for the {section} section: {request}.\")\n",
    "    else:\n",
    "        print(f\"No special requests have been made for the {section} section.\")\n",
    "    \n",
    "# Task 5: Add no special request for the Reptiles section\n",
    "add_special_request('Reptiles')\n",
    "\n",
    "# Task 6: Add a special request for the Mammals section\n",
    "add_special_request('Mammals', 'Wheelchair Access')"
   ]
  },
  {
   "cell_type": "code",
   "execution_count": 33,
   "metadata": {},
   "outputs": [
    {
     "data": {
      "text/plain": [
       "(12, 8, 20, 5.0)"
      ]
     },
     "execution_count": 33,
     "metadata": {},
     "output_type": "execute_result"
    }
   ],
   "source": [
    "def arithmetic_operations(a, b):\n",
    "    return a+b, a-b, a*b, a/b\n",
    "\n",
    "arithmetic_operations(10, 2)"
   ]
  },
  {
   "cell_type": "code",
   "execution_count": 34,
   "metadata": {},
   "outputs": [
    {
     "data": {
      "text/plain": [
       "'Hello, World!'"
      ]
     },
     "execution_count": 34,
     "metadata": {},
     "output_type": "execute_result"
    }
   ],
   "source": [
    "def return_hello():\n",
    "    return \"Hello, World!\"\n",
    "\n",
    "return_hello()"
   ]
  },
  {
   "cell_type": "code",
   "execution_count": 35,
   "metadata": {},
   "outputs": [],
   "source": [
    "def process_number(number):\n",
    "    if number < 0:\n",
    "        return \"Invalid input: Number is negative.\"\n",
    "    # Further processing for valid input\n",
    "    return f\"Processing number: {number}\""
   ]
  },
  {
   "cell_type": "code",
   "execution_count": 36,
   "metadata": {},
   "outputs": [],
   "source": [
    "def classify_age(age):\n",
    "    if age < 13:\n",
    "        return \"Child\"\n",
    "    elif age < 20:\n",
    "        return \"Teenager\"\n",
    "    elif age < 60:\n",
    "        return \"Adult\"\n",
    "    else:\n",
    "        return \"Senior\""
   ]
  },
  {
   "cell_type": "code",
   "execution_count": 37,
   "metadata": {},
   "outputs": [
    {
     "data": {
      "text/plain": [
       "'Child'"
      ]
     },
     "execution_count": 37,
     "metadata": {},
     "output_type": "execute_result"
    }
   ],
   "source": [
    "classify_age(12)"
   ]
  },
  {
   "cell_type": "code",
   "execution_count": 38,
   "metadata": {},
   "outputs": [
    {
     "data": {
      "text/plain": [
       "'Teenager'"
      ]
     },
     "execution_count": 38,
     "metadata": {},
     "output_type": "execute_result"
    }
   ],
   "source": [
    "classify_age(18)"
   ]
  },
  {
   "cell_type": "code",
   "execution_count": 39,
   "metadata": {},
   "outputs": [
    {
     "data": {
      "text/plain": [
       "'Adult'"
      ]
     },
     "execution_count": 39,
     "metadata": {},
     "output_type": "execute_result"
    }
   ],
   "source": [
    "classify_age(30)"
   ]
  },
  {
   "cell_type": "code",
   "execution_count": 40,
   "metadata": {},
   "outputs": [
    {
     "data": {
      "text/plain": [
       "'Senior'"
      ]
     },
     "execution_count": 40,
     "metadata": {},
     "output_type": "execute_result"
    }
   ],
   "source": [
    "classify_age(70)"
   ]
  },
  {
   "cell_type": "markdown",
   "metadata": {},
   "source": [
    "Tasks:\n",
    "\n",
    "1.Update the function celsius_to_fahrenheit to check if the input is either an integer or a float. If the input is not a number, print an error message and return None. Otherwise, calculate and return the equivalent temperature in Fahrenheit using the formula: Fahrenheit = (Celsius * 9/5) + 32.\n",
    "\n",
    "2.Revise the function fahrenheit_to_celsius in the same manner to validate the input. If the input is valid, use the formula: Celsius = (Fahrenheit - 32) * 5/9 to calculate and return the equivalent temperature in Celsius.\n",
    "\n",
    "3.Modify the function water_state to ensure the input is a number (either an integer or a float). The function should return \"Solid\" if the temperature is below 0, \"Liquid\" if the temperature is between 0 and 100 inclusive, and \"Gas\" if the temperature is above 100. For non-numeric inputs, print an error message and return None.\n",
    "\n",
    "4.Call celsius_to_fahrenheit with a valid value (e.g., 100) and an invalid value (e.g., \"hot\") and print the results.\n",
    "\n",
    "5.Call fahrenheit_to_celsius with a valid value (e.g., 32) and an invalid value (e.g., \"cold\") and print the results.\n",
    "\n",
    "6.Call water_state with a valid value (e.g., 25) and an invalid value (e.g., \"warm\") and print the results."
   ]
  },
  {
   "cell_type": "code",
   "execution_count": 41,
   "metadata": {},
   "outputs": [
    {
     "name": "stdout",
     "output_type": "stream",
     "text": [
      "100 Celsius is 212.0 Fahrenheit.\n",
      "Error: Invalid input. Please enter a numeric value.\n",
      "32 Fahrenheit is 0.0 Celsius.\n",
      "Error: Invalid input. Please enter a numeric value.\n",
      "At 25 Celsius, water is in a Liquid state.\n",
      "Error: Invalid input. Please enter a numeric value.\n"
     ]
    }
   ],
   "source": [
    "# Task 1: Function to convert Celsius to Fahrenheit with data validation\n",
    "\n",
    "def celsius_to_fahrenheit(temp):\n",
    "    # Check for invalid input first\n",
    "    if not (type(temp) == int or type(temp) == float):\n",
    "        print(\"Error: Invalid input. Please enter a numeric value.\")\n",
    "        return None\n",
    "    return (temp * 9/5) + 32\n",
    "\n",
    "# Task 2: Function to convert Fahrenheit to Celsius with data validation\n",
    "\n",
    "def fahrenheit_to_celsius(temp):\n",
    "    # Check for invalid input first\n",
    "    if not (type(temp) == int or type(temp) == float):\n",
    "        print(\"Error: Invalid input. Please enter a numeric value.\")\n",
    "        return None\n",
    "    return (temp - 32) * 5/9\n",
    "\n",
    "\n",
    "# Task 3: Function to determine the state of water based on temperature in Celsius with data validation\n",
    "\n",
    "def water_state(temp):\n",
    "    # Check for invalid input first\n",
    "    if not (type(temp) == int or type(temp) == float):\n",
    "        print(\"Error: Invalid input. Please enter a numeric value.\")\n",
    "        return None\n",
    "    if temp < 0:\n",
    "        return \"Solid\"\n",
    "    elif temp <= 100:\n",
    "        return \"Liquid\"\n",
    "    else:\n",
    "        return \"Gas\"\n",
    "\n",
    "\n",
    "# Task 4: Valid input for celsius_to_fahrenheit\n",
    "print(f\"100 Celsius is {celsius_to_fahrenheit(100)} Fahrenheit.\")\n",
    "celsius_to_fahrenheit(\"hot\")\n",
    "\n",
    "\n",
    "# Task 5: Valid input for fahrenheit_to_celsius\n",
    "print(f\"32 Fahrenheit is {fahrenheit_to_celsius(32)} Celsius.\")\n",
    "fahrenheit_to_celsius(\"cold\")\n",
    "\n",
    "# Task 6: Valid input for water_state\n",
    "print(f\"At 25 Celsius, water is in a {water_state(25)} state.\")\n",
    "\n",
    "water_state(\"warm\")"
   ]
  },
  {
   "cell_type": "code",
   "execution_count": 48,
   "metadata": {},
   "outputs": [
    {
     "name": "stdout",
     "output_type": "stream",
     "text": [
      "1\n",
      "5\n",
      "6\n",
      "8\n",
      "9\n",
      "2\n"
     ]
    }
   ],
   "source": [
    "def sum_numbers(*args):\n",
    "    for num in args:\n",
    "        print(num)\n",
    "sum_numbers(1, 5, 6, 8, 9, 2)\n",
    "\n"
   ]
  },
  {
   "cell_type": "code",
   "execution_count": 54,
   "metadata": {},
   "outputs": [
    {
     "data": {
      "text/plain": [
       "'hirad - akbar - mahla'"
      ]
     },
     "execution_count": 54,
     "metadata": {},
     "output_type": "execute_result"
    }
   ],
   "source": [
    "def concat_string(separator, *args):\n",
    "    return separator.join(args)\n",
    "\n",
    "name = [\n",
    "    'hirad',\n",
    "    'akbar',\n",
    "    'mahla'\n",
    "]\n",
    "\n",
    "concat_string(' - ', *name)"
   ]
  },
  {
   "cell_type": "code",
   "execution_count": 57,
   "metadata": {},
   "outputs": [
    {
     "name": "stdout",
     "output_type": "stream",
     "text": [
      "{'name': 'hirad', 'age': 25}\n"
     ]
    }
   ],
   "source": [
    "def interduse_yourself(**kwargs):\n",
    "    print(kwargs)\n",
    "\n",
    "interduse_yourself(name='hirad', age=25)"
   ]
  },
  {
   "cell_type": "code",
   "execution_count": 61,
   "metadata": {},
   "outputs": [
    {
     "name": "stdout",
     "output_type": "stream",
     "text": [
      "{'age': 30, 'city': 'Tehran'}\n"
     ]
    }
   ],
   "source": [
    "def interduse_yourself_2(name, **kwargs):\n",
    "    print(kwargs)\n",
    "\n",
    "profile = {\n",
    "    'age':30,\n",
    "    'city':'Tehran'\n",
    "}\n",
    "interduse_yourself_2(\n",
    "    'mahsa',\n",
    "    **profile\n",
    ")"
   ]
  },
  {
   "cell_type": "markdown",
   "metadata": {},
   "source": [
    "Tasks:\n",
    "\n",
    "1.Write a function named plan_session that uses tuple packing to accept a variable number of topics for a single session. The function should print out a list of topics planned for that session.\n",
    "\n",
    "2.Write a function named session_details that uses dictionary packing to accept various details about the session like the session's name, number of attendees, and room number. The function should print out all the details provided.\n",
    "\n",
    "3.Use argument tuple unpacking to call plan_session with a list of topics stored in a tuple for the session \"Web Development Basics\".\n",
    "\n",
    "4.Use argument dictionary unpacking to call session_details with details stored in a dictionary for the session \"Web Development Basics\".\n",
    "\n",
    "5.Combine both packing and unpacking techniques to organize a session named \"Advanced Python\", which includes unpacking a list of topics and unpacking session details from a dictionary."
   ]
  },
  {
   "cell_type": "code",
   "execution_count": 82,
   "metadata": {},
   "outputs": [
    {
     "name": "stdout",
     "output_type": "stream",
     "text": [
      "Topics planned for this session: ['Python basics', 'data types fundamental', 'function']\n",
      "session details:\n",
      "Name: web development basics\n",
      "Attendees: 40\n",
      "Room: 105\n",
      "Topics planned for this session: ['object oriented programming', 'modules']\n"
     ]
    }
   ],
   "source": [
    "# Task1: Write a function\n",
    "\n",
    "def plan_session(*topics):\n",
    "    print('Topics planned for this session:', list(topics))\n",
    "\n",
    "# Task2: Write a function\n",
    "\n",
    "def session_details(**datails):\n",
    "    print('session details:')\n",
    "    for key, value in datails.items():\n",
    "        print(f'{key.capitalize()}: {value}')\n",
    "\n",
    "# Task3: use args\n",
    "\n",
    "web_dev_topics = ('Python basics', 'data types fundamental', 'function')\n",
    "plan_session(*web_dev_topics)\n",
    "\n",
    "\n",
    "# Task4: calling \n",
    "\n",
    "\n",
    "web_dev_details = {\n",
    "    'name':'web development basics',\n",
    "    'attendees': 40,\n",
    "    'room': 105\n",
    "}\n",
    "\n",
    "session_details(**web_dev_details)\n",
    "\n",
    "\n",
    "# Task5: combine\n",
    "\n",
    "advance_python_topics = ['object oriented programming', 'modules']\n",
    "advance_python_datails = {\n",
    "    'name': 'advance python',\n",
    "    'attendees': 25,\n",
    "    'room': 203\n",
    "}\n",
    "plan_session(*advance_python_topics)"
   ]
  },
  {
   "cell_type": "markdown",
   "metadata": {},
   "source": [
    "Tasks:\n",
    "\n",
    "1.Write the Function: Define a function named calculate_rectangle_area that takes two parameters, width and height, which represent the dimensions of a rectangle.\n",
    "\n",
    "2.Add a Docstring: Write a docstring for the calculate_rectangle_area function. Make sure to include:\n",
    "\n",
    "3.A brief description of what the function does.\n",
    "Descriptions of the parameters width and height.\n",
    "The expected return value description.\n",
    "Include Type Hints: Add type hints to the function's parameters and return value. Assume the dimensions will be passed as floating-point numbers and the function will return the area as a floating-point number.\n",
    "\n",
    "4.Access the Docstring: Write code that prints the docstring of the calculate_rectangle_area function using both the help() function and the .__doc__ attribute.\n",
    "\n",
    "5.Bonus: Explore Docstring Styles: Choose one of the docstring styles mentioned in the lecture (Google, NumPy/SciPy, reStructuredText, Epytext) and rewrite the docstring of your function to match that style."
   ]
  },
  {
   "cell_type": "code",
   "execution_count": 89,
   "metadata": {},
   "outputs": [
    {
     "name": "stdout",
     "output_type": "stream",
     "text": [
      "\n",
      "    This function calculates the perimeter of a rectangle.\n",
      "\n",
      "    parameters:\n",
      "    width (float): the wifth of the rectangle in units.\n",
      "    height (float): the height of the recentangle in units.\n",
      "\n",
      "    Returns:\n",
      "    float: the area of the rectangle in square units.\n",
      "    \n",
      "Help on function calculate_rectangle_area in module __main__:\n",
      "\n",
      "calculate_rectangle_area(width: float, height: float) -> float\n",
      "    This function calculates the perimeter of a rectangle.\n",
      "    \n",
      "    parameters:\n",
      "    width (float): the wifth of the rectangle in units.\n",
      "    height (float): the height of the recentangle in units.\n",
      "    \n",
      "    Returns:\n",
      "    float: the area of the rectangle in square units.\n",
      "\n"
     ]
    }
   ],
   "source": [
    "# Task1 , Task2, Task3, Task4\n",
    "\n",
    "def calculate_rectangle_area(width:float, height:float) -> float:\n",
    "    '''\n",
    "    This function calculates the perimeter of a rectangle.\n",
    "\n",
    "    parameters:\n",
    "    width (float): the wifth of the rectangle in units.\n",
    "    height (float): the height of the recentangle in units.\n",
    "\n",
    "    Returns:\n",
    "    float: the area of the rectangle in square units.\n",
    "    '''\n",
    "    return width * height\n",
    "\n",
    "print(calculate_rectangle_area.__doc__)\n",
    "\n",
    "help(calculate_rectangle_area)"
   ]
  },
  {
   "cell_type": "code",
   "execution_count": null,
   "metadata": {},
   "outputs": [],
   "source": []
  }
 ],
 "metadata": {
  "kernelspec": {
   "display_name": "new-env",
   "language": "python",
   "name": "python3"
  },
  "language_info": {
   "codemirror_mode": {
    "name": "ipython",
    "version": 3
   },
   "file_extension": ".py",
   "mimetype": "text/x-python",
   "name": "python",
   "nbconvert_exporter": "python",
   "pygments_lexer": "ipython3",
   "version": "3.10.14"
  }
 },
 "nbformat": 4,
 "nbformat_minor": 2
}
